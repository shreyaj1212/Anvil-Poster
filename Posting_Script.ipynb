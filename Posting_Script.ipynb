{
 "cells": [
  {
   "cell_type": "markdown",
   "metadata": {},
   "source": [
    "Author: Shreya Jain"
   ]
  },
  {
   "cell_type": "markdown",
   "metadata": {},
   "source": [
    "Date: 03/12/2020"
   ]
  },
  {
   "cell_type": "markdown",
   "metadata": {},
   "source": [
    "# Imports"
   ]
  },
  {
   "cell_type": "code",
   "execution_count": 1,
   "metadata": {},
   "outputs": [],
   "source": [
    "import pandas as pd\n",
    "import urllib.request\n",
    "import selenium\n",
    "from selenium import webdriver\n",
    "import webbrowser\n",
    "import requests\n",
    "import os\n",
    "import pynput\n",
    "import time"
   ]
  },
  {
   "cell_type": "markdown",
   "metadata": {},
   "source": [
    "# Things To Know"
   ]
  },
  {
   "cell_type": "code",
   "execution_count": 2,
   "metadata": {},
   "outputs": [],
   "source": [
    "cwd = os.getcwd()\n",
    "files = os.listdir(cwd)\n",
    "f = open(cwd+\"/credentials.txt\", \"r\")\n",
    "username = f.readline()\n",
    "password = f.readline()\n",
    "login_pos = (823,560)\n",
    "password_pos = (596,508)\n",
    "posts_pos = (65,410)\n",
    "add_new_pos = (40,372)\n",
    "byname_pos = (400,416)"
   ]
  },
  {
   "cell_type": "markdown",
   "metadata": {},
   "source": [
    "# Methods"
   ]
  },
  {
   "cell_type": "code",
   "execution_count": 3,
   "metadata": {},
   "outputs": [],
   "source": [
    "def type_word(name,keyboard):\n",
    "    time.sleep(4)\n",
    "    for i in name:\n",
    "        keyboard.press(i)\n",
    "        keyboard.release(i)\n",
    "\n",
    "def press_button(pos,mouse):\n",
    "    mouse.position = pos\n",
    "    mouse.press(pynput.mouse.Button.left)\n",
    "    mouse.release(pynput.mouse.Button.left)\n",
    "    \n",
    "def post_article(article,mouse,keyboard):\n",
    "    press_button(posts_pos,mouse)\n",
    "    wait_for_loading()\n",
    "    press_button(add_new_pos,mouse)\n",
    "    wait_for_loading()\n",
    "    type_word(article.title,keyboard)\n",
    "    wait_for_loading()\n",
    "    add_byname(article.author,mouse,keyboard)\n",
    "    add_hyperlink(article.author,mouse,keyboard)\n",
    "    \n",
    "def add_byname(author,mouse,keyboard):\n",
    "    press_button(byname_pos, mouse)\n",
    "    byname = \"By \" + author\n",
    "    type_word(byname, keyboard)\n",
    "    \n",
    "def add_hyperlink(author,mouse,keyboard):\n",
    "    highlight_author_name(author,mouse,keyboard)\n",
    "    mouse.move(142,-42)\n",
    "    mouse.press(pynput.mouse.Button.left)\n",
    "    mouse.release(pynput.mouse.Button.left)\n",
    "    name = \"\"\n",
    "    for i in author:\n",
    "        if i==' ':\n",
    "            name = name + \"-\"\n",
    "        else: \n",
    "            name = name + i\n",
    "    link = 'http://mxanvil.net/category/'+name\n",
    "    type_word(link,keyboard)\n",
    "    mouse.move(27,89)\n",
    "    mouse.press(pynput.mouse.Button.left)\n",
    "    mouse.release(pynput.mouse.Button.left)\n",
    "    \n",
    "def highlight_author_name(author,mouse,keyboard):\n",
    "    mouse.position = (393,416)\n",
    "    mouse.press(pynput.mouse.Button.left)\n",
    "    a=len(author)\n",
    "    mouse.move(11*a,0)\n",
    "    mouse.release(pynput.mouse.Button.left)\n",
    "    \n",
    "def wait_for_loading():\n",
    "    time.sleep(5)"
   ]
  },
  {
   "cell_type": "markdown",
   "metadata": {},
   "source": [
    "# Classes"
   ]
  },
  {
   "cell_type": "code",
   "execution_count": 69,
   "metadata": {},
   "outputs": [],
   "source": [
    "class Article:\n",
    "    def __init__(self, title, author, teaser, issue_num, txt):\n",
    "        self.title = title\n",
    "        self.author = author\n",
    "        self.teaser = teaser\n",
    "        self.issue_number = issue_num\n",
    "        self.text = txt"
   ]
  },
  {
   "cell_type": "markdown",
   "metadata": {},
   "source": [
    "# Opening Site"
   ]
  },
  {
   "cell_type": "code",
   "execution_count": 70,
   "metadata": {},
   "outputs": [],
   "source": [
    "url = 'http://mxanvil.net/wp-admin'\n",
    "webbrowser.open(url)\n",
    "keyboard = pynput.keyboard.Controller()\n",
    "wait_for_loading()\n",
    "type_word(username,keyboard)\n",
    "mouse = pynput.mouse.Controller()\n",
    "press_button(password_pos,mouse)\n",
    "type_word(password,keyboard)\n",
    "press_button(login_pos,mouse)\n",
    "wait_for_loading()\n",
    "sample_article = Article(\"Sample\",\"Shreya Jain\",\"Read now\",\"9\",\"great article plz read\")\n",
    "post_article(sample_article,mouse,keyboard)"
   ]
  },
  {
   "cell_type": "markdown",
   "metadata": {},
   "source": [
    "# Post Article"
   ]
  }
 ],
 "metadata": {
  "kernelspec": {
   "display_name": "Python 3",
   "language": "python",
   "name": "python3"
  },
  "language_info": {
   "codemirror_mode": {
    "name": "ipython",
    "version": 3
   },
   "file_extension": ".py",
   "mimetype": "text/x-python",
   "name": "python",
   "nbconvert_exporter": "python",
   "pygments_lexer": "ipython3",
   "version": "3.7.3"
  }
 },
 "nbformat": 4,
 "nbformat_minor": 2
}
