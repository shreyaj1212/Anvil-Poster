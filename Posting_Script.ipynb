{
 "cells": [
  {
   "cell_type": "markdown",
   "metadata": {},
   "source": [
    "Author: Shreya Jain"
   ]
  },
  {
   "cell_type": "markdown",
   "metadata": {},
   "source": [
    "Date: 03/12/2020"
   ]
  },
  {
   "cell_type": "markdown",
   "metadata": {},
   "source": [
    "# Imports"
   ]
  },
  {
   "cell_type": "code",
   "execution_count": 1,
   "metadata": {},
   "outputs": [],
   "source": [
    "import pandas as pd\n",
    "import urllib.request\n",
    "import selenium\n",
    "from selenium import webdriver\n",
    "import webbrowser\n",
    "import requests\n",
    "import os\n",
    "import pynput\n",
    "import time"
   ]
  },
  {
   "cell_type": "markdown",
   "metadata": {},
   "source": [
    "# Things To Know"
   ]
  },
  {
   "cell_type": "code",
   "execution_count": 76,
   "metadata": {},
   "outputs": [],
   "source": [
    "cwd = os.getcwd()\n",
    "files = os.listdir(cwd)\n",
    "f = open(cwd+\"/credentials.txt\", \"r\")\n",
    "username = f.readline()\n",
    "password = f.readline()\n",
    "login_pos = (823,560)\n",
    "password_pos = (596,508)\n",
    "posts_pos = (65,410)\n",
    "add_new_pos = (40,370)\n",
    "byname_pos = (400,416)"
   ]
  },
  {
   "cell_type": "markdown",
   "metadata": {},
   "source": [
    "# Methods"
   ]
  },
  {
   "cell_type": "code",
   "execution_count": 77,
   "metadata": {},
   "outputs": [],
   "source": [
    "def type_word(name,keyboard):\n",
    "    for i in name:\n",
    "        keyboard.press(i)\n",
    "        keyboard.release(i)\n",
    "\n",
    "def press_button(pos,mouse):\n",
    "    mouse.position = pos\n",
    "    mouse.click(pynput.mouse.Button.left)\n",
    "    \n",
    "def post_article(article,mouse,keyboard):\n",
    "    wait(2)\n",
    "    press_button(posts_pos,mouse)\n",
    "    wait(3)\n",
    "    press_button(add_new_pos,mouse)\n",
    "    wait(3)\n",
    "    type_word(article.title,keyboard)\n",
    "    add_byname(article.author,mouse,keyboard)\n",
    "    \n",
    "def add_byname(author,mouse,keyboard):\n",
    "    wait(2)\n",
    "    mouse.position=(383,423)\n",
    "    wait(1)\n",
    "    press_button(byname_pos, mouse)\n",
    "    byname = \"By \" #+ author\n",
    "    wait(2)\n",
    "    type_word(byname, keyboard)\n",
    "    mouse.position=(611,375)\n",
    "    click()\n",
    "    mouse.position = (611,564)\n",
    "    click()\n",
    "    hyperlink = generate_hyperlink(author,mouse,keyboard)\n",
    "    type_word(hyperlink, keyboard)\n",
    "    \n",
    "def click():\n",
    "    mouse.press(pynput.mouse.Button.left)\n",
    "    mouse.release(pynput.mouse.Button.left)\n",
    "    \n",
    "def generate_hyperlink(author,mouse,keyboard):\n",
    "    name = \"\"\n",
    "    for i in author:\n",
    "        if i==' ':\n",
    "            name = name + \"-\"\n",
    "        else: \n",
    "            name = name + i\n",
    "    html_hyperlink = '<a href=\"http://mxanvil.net/category/\">'+name+'</a>'\n",
    "    return html_hyperlink\n",
    "\n",
    "def click_menu():\n",
    "    mouse.position = (611,375)\n",
    "    mouse.click(pynput.mouse.Button.left)\n",
    "    \n",
    "def click_html():\n",
    "    mouse.position = (611,565)\n",
    "    mouse.click(pynput.mouse.Button.left)\n",
    "    \n",
    "def highlight_author_name(author,mouse,keyboard):\n",
    "    mouse.position = (393,416)\n",
    "    mouse.press(pynput.mouse.Button.left)\n",
    "    a=len(author)\n",
    "    mouse.move(11*a,0)\n",
    "    mouse.release(pynput.mouse.Button.left)\n",
    "    \n",
    "def wait(i):\n",
    "    time.sleep(i)\n",
    "    \n",
    "def login(keyboard, mouse):\n",
    "    wait(5)\n",
    "    type_word(username,keyboard)\n",
    "    press_button(password_pos,mouse)\n",
    "    type_word(password,keyboard)\n",
    "    press_button(login_pos,mouse)"
   ]
  },
  {
   "cell_type": "markdown",
   "metadata": {},
   "source": [
    "# Classes"
   ]
  },
  {
   "cell_type": "code",
   "execution_count": 78,
   "metadata": {},
   "outputs": [],
   "source": [
    "class Article:\n",
    "    def __init__(self, title, author, teaser, issue_num, txt):\n",
    "        self.title = title\n",
    "        self.author = author\n",
    "        self.teaser = teaser\n",
    "        self.issue_number = issue_num\n",
    "        self.text = txt"
   ]
  },
  {
   "cell_type": "markdown",
   "metadata": {},
   "source": [
    "# Opening Site"
   ]
  },
  {
   "cell_type": "code",
   "execution_count": 81,
   "metadata": {},
   "outputs": [
    {
     "name": "stdout",
     "output_type": "stream",
     "text": [
      "23.192934036254883\n"
     ]
    }
   ],
   "source": [
    "t0=time.time()\n",
    "url = 'http://mxanvil.net/wp-admin'\n",
    "webbrowser.open(url)\n",
    "keyboard = pynput.keyboard.Controller()\n",
    "mouse = pynput.mouse.Controller()\n",
    "wait(5)\n",
    "type_word(username,keyboard)\n",
    "press_button(password_pos,mouse)\n",
    "type_word(password,keyboard)\n",
    "press_button(login_pos,mouse)\n",
    "wait(5)\n",
    "article = Article(\"Sample\",\"Shreya Jain\",\"Read now\",\"9\",\"great article plz read\")\n",
    "wait(2)\n",
    "press_button(posts_pos,mouse)\n",
    "wait(3)\n",
    "mouse.position = add_new_pos\n",
    "mouse.press(pynput.mouse.Button.left)\n",
    "mouse.release(pynput.mouse.Button.left)\n",
    "wait(3)\n",
    "type_word(article.title,keyboard)\n",
    "add_byname(article.author,mouse,keyboard)\n",
    "t1=time.time()\n",
    "print(str(t1-t0))"
   ]
  },
  {
   "cell_type": "markdown",
   "metadata": {},
   "source": []
  },
  {
   "cell_type": "code",
   "execution_count": null,
   "metadata": {},
   "outputs": [],
   "source": []
  },
  {
   "cell_type": "code",
   "execution_count": null,
   "metadata": {},
   "outputs": [],
   "source": []
  }
 ],
 "metadata": {
  "kernelspec": {
   "display_name": "Python 3",
   "language": "python",
   "name": "python3"
  },
  "language_info": {
   "codemirror_mode": {
    "name": "ipython",
    "version": 3
   },
   "file_extension": ".py",
   "mimetype": "text/x-python",
   "name": "python",
   "nbconvert_exporter": "python",
   "pygments_lexer": "ipython3",
   "version": "3.7.3"
  }
 },
 "nbformat": 4,
 "nbformat_minor": 2
}
