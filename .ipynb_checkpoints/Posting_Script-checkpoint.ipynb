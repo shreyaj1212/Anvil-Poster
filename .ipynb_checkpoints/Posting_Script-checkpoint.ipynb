{
 "cells": [
  {
   "cell_type": "markdown",
   "metadata": {},
   "source": [
    "Author: Shreya Jain"
   ]
  },
  {
   "cell_type": "markdown",
   "metadata": {},
   "source": [
    "Date: 03/12/2020"
   ]
  },
  {
   "cell_type": "markdown",
   "metadata": {},
   "source": [
    "# Imports"
   ]
  },
  {
   "cell_type": "code",
   "execution_count": 1,
   "metadata": {},
   "outputs": [],
   "source": [
    "import pandas as pd\n",
    "import urllib.request\n",
    "import selenium\n",
    "from selenium import webdriver\n",
    "import webbrowser\n",
    "import requests\n",
    "import os\n",
    "import pynput\n",
    "import time"
   ]
  },
  {
   "cell_type": "markdown",
   "metadata": {},
   "source": [
    "# Things To Know"
   ]
  },
  {
   "cell_type": "code",
   "execution_count": 2,
   "metadata": {},
   "outputs": [],
   "source": [
    "cwd = os.getcwd()\n",
    "files = os.listdir(cwd)\n",
    "f = open(cwd+\"/credentials.txt\", \"r\")\n",
    "username = f.readline()\n",
    "password = f.readline()\n",
    "login_pos = (823,560)\n",
    "password_pos = (596,508)\n",
    "posts_pos = (65,410)\n",
    "add_new_pos = (40,372)\n",
    "byname_pos = (400,416)"
   ]
  },
  {
   "cell_type": "markdown",
   "metadata": {},
   "source": [
    "# Methods"
   ]
  },
  {
   "cell_type": "code",
   "execution_count": 67,
   "metadata": {},
   "outputs": [],
   "source": [
    "def type_word(name,keyboard):\n",
    "    time.sleep(4)\n",
    "    for i in name:\n",
    "        keyboard.press(i)\n",
    "        keyboard.release(i)\n",
    "\n",
    "def press_button(pos,mouse):\n",
    "    mouse.position = pos\n",
    "    mouse.click(pynput.mouse.Button.left)\n",
    "    \n",
    "def post_article(article,mouse,keyboard):\n",
    "    press_button(posts_pos,mouse)\n",
    "    wait_for_loading()\n",
    "    press_button(add_new_pos,mouse)\n",
    "    wait_for_loading()\n",
    "    type_word(article.title,keyboard)\n",
    "    wait_for_loading()\n",
    "    add_byname(article.author,mouse,keyboard)\n",
    "    click_menu()\n",
    "    mouse.move(0,190)\n",
    "    mouse.click(pynput.mouse.Button.left)\n",
    "    print(mouse.position)\n",
    "    hyperlink = generate_hyperlink(article.author,mouse,keyboard)\n",
    "    type_word(hyperlink, keyboard)\n",
    "    \n",
    "def add_byname(author,mouse,keyboard):\n",
    "    press_button(byname_pos, mouse)\n",
    "    byname = \"By \" #+ author\n",
    "    type_word(byname, keyboard)\n",
    "    \n",
    "def click():\n",
    "    mouse.press(pynput.mouse.Button.left)\n",
    "    mouse.release(pynput.mouse.Button.left)\n",
    "    \n",
    "def generate_hyperlink(author,mouse,keyboard):\n",
    "    name = \"\"\n",
    "    for i in author:\n",
    "        if i==' ':\n",
    "            name = name + \"-\"\n",
    "        else: \n",
    "            name = name + i\n",
    "    html_hyperlink = '<a href=\"http://mxanvil.net/category/\">'+name+'</a>'\n",
    "    return html_hyperlink\n",
    "\n",
    "def click_menu():\n",
    "    mouse.position = (611,375)\n",
    "    mouse.click(pynput.mouse.Button.left)\n",
    "    \n",
    "def click_html():\n",
    "    mouse.position = (611,565)\n",
    "    mouse.click(pynput.mouse.Button.left)\n",
    "    \n",
    "def highlight_author_name(author,mouse,keyboard):\n",
    "    mouse.position = (393,416)\n",
    "    mouse.press(pynput.mouse.Button.left)\n",
    "    a=len(author)\n",
    "    mouse.move(11*a,0)\n",
    "    mouse.release(pynput.mouse.Button.left)\n",
    "    \n",
    "def wait_for_loading():\n",
    "    time.sleep(5)\n",
    "    \n",
    "def login(keyboard, mouse):\n",
    "    wait_for_loading()\n",
    "    type_word(username,keyboard)\n",
    "    press_button(password_pos,mouse)\n",
    "    type_word(password,keyboard)\n",
    "    press_button(login_pos,mouse)"
   ]
  },
  {
   "cell_type": "markdown",
   "metadata": {},
   "source": [
    "# Classes"
   ]
  },
  {
   "cell_type": "code",
   "execution_count": 68,
   "metadata": {},
   "outputs": [],
   "source": [
    "class Article:\n",
    "    def __init__(self, title, author, teaser, issue_num, txt):\n",
    "        self.title = title\n",
    "        self.author = author\n",
    "        self.teaser = teaser\n",
    "        self.issue_number = issue_num\n",
    "        self.text = txt"
   ]
  },
  {
   "cell_type": "markdown",
   "metadata": {},
   "source": [
    "# Opening Site"
   ]
  },
  {
   "cell_type": "code",
   "execution_count": 69,
   "metadata": {},
   "outputs": [
    {
     "ename": "KeyboardInterrupt",
     "evalue": "",
     "output_type": "error",
     "traceback": [
      "\u001b[0;31m---------------------------------------------------------------------------\u001b[0m",
      "\u001b[0;31mKeyboardInterrupt\u001b[0m                         Traceback (most recent call last)",
      "\u001b[0;32m<ipython-input-69-8eb0e686129d>\u001b[0m in \u001b[0;36m<module>\u001b[0;34m\u001b[0m\n\u001b[1;32m      6\u001b[0m \u001b[0mwait_for_loading\u001b[0m\u001b[0;34m(\u001b[0m\u001b[0;34m)\u001b[0m\u001b[0;34m\u001b[0m\u001b[0;34m\u001b[0m\u001b[0m\n\u001b[1;32m      7\u001b[0m \u001b[0msample_article\u001b[0m \u001b[0;34m=\u001b[0m \u001b[0mArticle\u001b[0m\u001b[0;34m(\u001b[0m\u001b[0;34m\"Sample\"\u001b[0m\u001b[0;34m,\u001b[0m\u001b[0;34m\"Shreya Jain\"\u001b[0m\u001b[0;34m,\u001b[0m\u001b[0;34m\"Read now\"\u001b[0m\u001b[0;34m,\u001b[0m\u001b[0;34m\"9\"\u001b[0m\u001b[0;34m,\u001b[0m\u001b[0;34m\"great article plz read\"\u001b[0m\u001b[0;34m)\u001b[0m\u001b[0;34m\u001b[0m\u001b[0;34m\u001b[0m\u001b[0m\n\u001b[0;32m----> 8\u001b[0;31m \u001b[0mpost_article\u001b[0m\u001b[0;34m(\u001b[0m\u001b[0msample_article\u001b[0m\u001b[0;34m,\u001b[0m\u001b[0mmouse\u001b[0m\u001b[0;34m,\u001b[0m\u001b[0mkeyboard\u001b[0m\u001b[0;34m)\u001b[0m\u001b[0;34m\u001b[0m\u001b[0;34m\u001b[0m\u001b[0m\n\u001b[0m",
      "\u001b[0;32m<ipython-input-67-ce03230a5a0e>\u001b[0m in \u001b[0;36mpost_article\u001b[0;34m(article, mouse, keyboard)\u001b[0m\n\u001b[1;32m     14\u001b[0m     \u001b[0mpress_button\u001b[0m\u001b[0;34m(\u001b[0m\u001b[0madd_new_pos\u001b[0m\u001b[0;34m,\u001b[0m\u001b[0mmouse\u001b[0m\u001b[0;34m)\u001b[0m\u001b[0;34m\u001b[0m\u001b[0;34m\u001b[0m\u001b[0m\n\u001b[1;32m     15\u001b[0m     \u001b[0mwait_for_loading\u001b[0m\u001b[0;34m(\u001b[0m\u001b[0;34m)\u001b[0m\u001b[0;34m\u001b[0m\u001b[0;34m\u001b[0m\u001b[0m\n\u001b[0;32m---> 16\u001b[0;31m     \u001b[0mtype_word\u001b[0m\u001b[0;34m(\u001b[0m\u001b[0marticle\u001b[0m\u001b[0;34m.\u001b[0m\u001b[0mtitle\u001b[0m\u001b[0;34m,\u001b[0m\u001b[0mkeyboard\u001b[0m\u001b[0;34m)\u001b[0m\u001b[0;34m\u001b[0m\u001b[0;34m\u001b[0m\u001b[0m\n\u001b[0m\u001b[1;32m     17\u001b[0m     \u001b[0mwait_for_loading\u001b[0m\u001b[0;34m(\u001b[0m\u001b[0;34m)\u001b[0m\u001b[0;34m\u001b[0m\u001b[0;34m\u001b[0m\u001b[0m\n\u001b[1;32m     18\u001b[0m     \u001b[0madd_byname\u001b[0m\u001b[0;34m(\u001b[0m\u001b[0marticle\u001b[0m\u001b[0;34m.\u001b[0m\u001b[0mauthor\u001b[0m\u001b[0;34m,\u001b[0m\u001b[0mmouse\u001b[0m\u001b[0;34m,\u001b[0m\u001b[0mkeyboard\u001b[0m\u001b[0;34m)\u001b[0m\u001b[0;34m\u001b[0m\u001b[0;34m\u001b[0m\u001b[0m\n",
      "\u001b[0;32m<ipython-input-67-ce03230a5a0e>\u001b[0m in \u001b[0;36mtype_word\u001b[0;34m(name, keyboard)\u001b[0m\n\u001b[1;32m      1\u001b[0m \u001b[0;32mdef\u001b[0m \u001b[0mtype_word\u001b[0m\u001b[0;34m(\u001b[0m\u001b[0mname\u001b[0m\u001b[0;34m,\u001b[0m\u001b[0mkeyboard\u001b[0m\u001b[0;34m)\u001b[0m\u001b[0;34m:\u001b[0m\u001b[0;34m\u001b[0m\u001b[0;34m\u001b[0m\u001b[0m\n\u001b[0;32m----> 2\u001b[0;31m     \u001b[0mtime\u001b[0m\u001b[0;34m.\u001b[0m\u001b[0msleep\u001b[0m\u001b[0;34m(\u001b[0m\u001b[0;36m4\u001b[0m\u001b[0;34m)\u001b[0m\u001b[0;34m\u001b[0m\u001b[0;34m\u001b[0m\u001b[0m\n\u001b[0m\u001b[1;32m      3\u001b[0m     \u001b[0;32mfor\u001b[0m \u001b[0mi\u001b[0m \u001b[0;32min\u001b[0m \u001b[0mname\u001b[0m\u001b[0;34m:\u001b[0m\u001b[0;34m\u001b[0m\u001b[0;34m\u001b[0m\u001b[0m\n\u001b[1;32m      4\u001b[0m         \u001b[0mkeyboard\u001b[0m\u001b[0;34m.\u001b[0m\u001b[0mpress\u001b[0m\u001b[0;34m(\u001b[0m\u001b[0mi\u001b[0m\u001b[0;34m)\u001b[0m\u001b[0;34m\u001b[0m\u001b[0;34m\u001b[0m\u001b[0m\n\u001b[1;32m      5\u001b[0m         \u001b[0mkeyboard\u001b[0m\u001b[0;34m.\u001b[0m\u001b[0mrelease\u001b[0m\u001b[0;34m(\u001b[0m\u001b[0mi\u001b[0m\u001b[0;34m)\u001b[0m\u001b[0;34m\u001b[0m\u001b[0;34m\u001b[0m\u001b[0m\n",
      "\u001b[0;31mKeyboardInterrupt\u001b[0m: "
     ]
    }
   ],
   "source": [
    "url = 'http://mxanvil.net/wp-admin'\n",
    "webbrowser.open(url)\n",
    "keyboard = pynput.keyboard.Controller()\n",
    "mouse = pynput.mouse.Controller()\n",
    "login(keyboard,mouse)\n",
    "wait_for_loading()\n",
    "sample_article = Article(\"Sample\",\"Shreya Jain\",\"Read now\",\"9\",\"great article plz read\")\n",
    "post_article(sample_article,mouse,keyboard)"
   ]
  },
  {
   "cell_type": "code",
   "execution_count": null,
   "metadata": {},
   "outputs": [],
   "source": []
  },
  {
   "cell_type": "markdown",
   "metadata": {},
   "source": [
    "# "
   ]
  },
  {
   "cell_type": "markdown",
   "metadata": {},
   "source": [
    "## "
   ]
  }
 ],
 "metadata": {
  "kernelspec": {
   "display_name": "Python 3",
   "language": "python",
   "name": "python3"
  },
  "language_info": {
   "codemirror_mode": {
    "name": "ipython",
    "version": 3
   },
   "file_extension": ".py",
   "mimetype": "text/x-python",
   "name": "python",
   "nbconvert_exporter": "python",
   "pygments_lexer": "ipython3",
   "version": "3.7.3"
  }
 },
 "nbformat": 4,
 "nbformat_minor": 2
}
